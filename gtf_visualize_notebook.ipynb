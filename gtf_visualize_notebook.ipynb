{
 "cells": [
  {
   "cell_type": "code",
   "execution_count": 2,
   "metadata": {
    "scrolled": true
   },
   "outputs": [
    {
     "name": "stderr",
     "output_type": "stream",
     "text": [
      "Updating HTML index of packages in '.Library'\n",
      "Making 'packages.html' ... done\n"
     ]
    }
   ],
   "source": [
    "install.packages(\"refGenome\")"
   ]
  },
  {
   "cell_type": "code",
   "execution_count": 3,
   "metadata": {
    "scrolled": true
   },
   "outputs": [
    {
     "name": "stderr",
     "output_type": "stream",
     "text": [
      "Loading required package: doBy\n",
      "Loading required package: RSQLite\n"
     ]
    }
   ],
   "source": [
    "library(refGenome)"
   ]
  },
  {
   "cell_type": "code",
   "execution_count": 19,
   "metadata": {},
   "outputs": [
    {
     "name": "stderr",
     "output_type": "stream",
     "text": [
      "Updating HTML index of packages in '.Library'\n",
      "Making 'packages.html' ... done\n"
     ]
    }
   ],
   "source": [
    "install.packages(\"dplyr\")"
   ]
  },
  {
   "cell_type": "code",
   "execution_count": 20,
   "metadata": {
    "scrolled": true
   },
   "outputs": [
    {
     "name": "stderr",
     "output_type": "stream",
     "text": [
      "\n",
      "Attaching package: ‘dplyr’\n",
      "\n",
      "The following objects are masked from ‘package:stats’:\n",
      "\n",
      "    filter, lag\n",
      "\n",
      "The following objects are masked from ‘package:base’:\n",
      "\n",
      "    intersect, setdiff, setequal, union\n",
      "\n"
     ]
    }
   ],
   "source": [
    "library(\"dplyr\")"
   ]
  },
  {
   "cell_type": "code",
   "execution_count": 32,
   "metadata": {},
   "outputs": [
    {
     "name": "stderr",
     "output_type": "stream",
     "text": [
      "Updating HTML index of packages in '.Library'\n",
      "Making 'packages.html' ... done\n"
     ]
    }
   ],
   "source": [
    "install.packages(\"ggplot2\")\n",
    "library(ggplot2)"
   ]
  },
  {
   "cell_type": "code",
   "execution_count": 35,
   "metadata": {
    "scrolled": true
   },
   "outputs": [
    {
     "name": "stderr",
     "output_type": "stream",
     "text": [
      "Updating HTML index of packages in '.Library'\n",
      "Making 'packages.html' ... done\n",
      "Bioconductor version 3.6 (BiocInstaller 1.28.0), ?biocLite for help\n",
      "A new version of Bioconductor is available after installing the most recent\n",
      "  version of R; see http://bioconductor.org/install\n",
      "BioC_mirror: https://bioconductor.org\n",
      "Using Bioconductor 3.6 (BiocInstaller 1.28.0), R 3.4.3 (2017-11-30).\n",
      "Installing package(s) ‘GenomicRanges’\n",
      "also installing the dependencies ‘bitops’, ‘RCurl’, ‘GenomeInfoDbData’, ‘zlibbioc’, ‘BiocGenerics’, ‘S4Vectors’, ‘IRanges’, ‘GenomeInfoDb’, ‘XVector’\n",
      "\n",
      "Updating HTML index of packages in '.Library'\n",
      "Making 'packages.html' ... done\n",
      "Old packages: 'BH', 'bindr', 'bindrcpp', 'bit', 'blob', 'broom', 'callr',\n",
      "  'caret', 'checkpoint', 'cluster', 'curl', 'CVST', 'data.table', 'DBI',\n",
      "  'dbplyr', 'ddalpha', 'digest', 'doBy', 'doParallel', 'dplyr', 'DRR',\n",
      "  'forcats', 'foreach', 'foreign', 'glmnet', 'haven', 'hexbin', 'hms',\n",
      "  'htmlwidgets', 'httpuv', 'IRdisplay', 'iterators', 'jsonlite', 'kernlab',\n",
      "  'knitr', 'lava', 'lubridate', 'maps', 'MASS', 'Matrix', 'mgcv', 'modelr',\n",
      "  'nlme', 'openssl', 'pbdZMQ', 'pillar', 'plogr', 'png', 'prodlim', 'psych',\n",
      "  'purrr', 'quantmod', 'R6', 'randomForest', 'Rcpp', 'RcppRoll', 'readxl',\n",
      "  'recipes', 'repr', 'reprex', 'rlang', 'rmarkdown', 'robustbase', 'rpart',\n",
      "  'rprojroot', 'RSQLite', 'RUnit', 'selectr', 'sfsmisc', 'shiny',\n",
      "  'sourcetools', 'stringi', 'stringr', 'survival', 'tibble', 'tidyr',\n",
      "  'tidyselect', 'timeDate', 'TTR', 'utf8', 'viridisLite', 'withr', 'xml2',\n",
      "  'xts', 'yaml', 'zoo'\n"
     ]
    }
   ],
   "source": [
    "source(\"https://bioconductor.org/biocLite.R\")\n",
    "biocLite(\"GenomicRanges\")"
   ]
  },
  {
   "cell_type": "code",
   "execution_count": 40,
   "metadata": {
    "scrolled": true
   },
   "outputs": [
    {
     "name": "stderr",
     "output_type": "stream",
     "text": [
      "Updating HTML index of packages in '.Library'\n",
      "Making 'packages.html' ... done\n"
     ]
    }
   ],
   "source": [
    "install.packages(\"RMySQL\")"
   ]
  },
  {
   "cell_type": "code",
   "execution_count": 41,
   "metadata": {},
   "outputs": [
    {
     "name": "stderr",
     "output_type": "stream",
     "text": [
      "BioC_mirror: https://bioconductor.org\n",
      "Using Bioconductor 3.6 (BiocInstaller 1.28.0), R 3.4.3 (2017-11-30).\n",
      "Installing package(s) ‘GenomicFeatures’\n",
      "Updating HTML index of packages in '.Library'\n",
      "Making 'packages.html' ... done\n",
      "Old packages: 'BH', 'bindr', 'bindrcpp', 'bit', 'blob', 'broom', 'callr',\n",
      "  'caret', 'checkpoint', 'cluster', 'curl', 'CVST', 'data.table', 'DBI',\n",
      "  'dbplyr', 'ddalpha', 'digest', 'doBy', 'doParallel', 'dplyr', 'DRR',\n",
      "  'forcats', 'foreach', 'foreign', 'glmnet', 'haven', 'hexbin', 'hms',\n",
      "  'htmlwidgets', 'httpuv', 'IRdisplay', 'iterators', 'jsonlite', 'kernlab',\n",
      "  'knitr', 'lava', 'lubridate', 'maps', 'MASS', 'Matrix', 'mgcv', 'modelr',\n",
      "  'nlme', 'openssl', 'pbdZMQ', 'pillar', 'plogr', 'png', 'prodlim', 'psych',\n",
      "  'purrr', 'quantmod', 'R6', 'randomForest', 'Rcpp', 'RcppRoll', 'readxl',\n",
      "  'recipes', 'repr', 'reprex', 'rlang', 'rmarkdown', 'RMySQL', 'robustbase',\n",
      "  'rpart', 'rprojroot', 'RSQLite', 'RUnit', 'selectr', 'sfsmisc', 'shiny',\n",
      "  'sourcetools', 'stringi', 'stringr', 'survival', 'tibble', 'tidyr',\n",
      "  'tidyselect', 'timeDate', 'TTR', 'utf8', 'withr', 'xml2', 'xts', 'yaml',\n",
      "  'zoo'\n"
     ]
    }
   ],
   "source": [
    "biocLite(\"GenomicFeatures\")"
   ]
  },
  {
   "cell_type": "code",
   "execution_count": 42,
   "metadata": {},
   "outputs": [
    {
     "name": "stderr",
     "output_type": "stream",
     "text": [
      "BioC_mirror: https://bioconductor.org\n",
      "Using Bioconductor 3.6 (BiocInstaller 1.28.0), R 3.4.3 (2017-11-30).\n",
      "Installing package(s) ‘VariantAnnotation’\n",
      "Updating HTML index of packages in '.Library'\n",
      "Making 'packages.html' ... done\n",
      "Old packages: 'BH', 'bindr', 'bindrcpp', 'bit', 'blob', 'broom', 'callr',\n",
      "  'caret', 'checkpoint', 'cluster', 'curl', 'CVST', 'data.table', 'DBI',\n",
      "  'dbplyr', 'ddalpha', 'digest', 'doBy', 'doParallel', 'dplyr', 'DRR',\n",
      "  'forcats', 'foreach', 'foreign', 'glmnet', 'haven', 'hexbin', 'hms',\n",
      "  'htmlwidgets', 'httpuv', 'IRdisplay', 'iterators', 'jsonlite', 'kernlab',\n",
      "  'knitr', 'lava', 'lubridate', 'maps', 'MASS', 'Matrix', 'mgcv', 'modelr',\n",
      "  'nlme', 'openssl', 'pbdZMQ', 'pillar', 'plogr', 'png', 'prodlim', 'psych',\n",
      "  'purrr', 'quantmod', 'R6', 'randomForest', 'Rcpp', 'RcppRoll', 'readxl',\n",
      "  'recipes', 'repr', 'reprex', 'rlang', 'rmarkdown', 'RMySQL', 'robustbase',\n",
      "  'rpart', 'rprojroot', 'RSQLite', 'RUnit', 'selectr', 'sfsmisc', 'shiny',\n",
      "  'sourcetools', 'stringi', 'stringr', 'survival', 'tibble', 'tidyr',\n",
      "  'tidyselect', 'timeDate', 'TTR', 'utf8', 'withr', 'xml2', 'xts', 'yaml',\n",
      "  'zoo'\n"
     ]
    }
   ],
   "source": [
    "biocLite(\"VariantAnnotation\")"
   ]
  },
  {
   "cell_type": "code",
   "execution_count": 43,
   "metadata": {
    "scrolled": true
   },
   "outputs": [
    {
     "name": "stderr",
     "output_type": "stream",
     "text": [
      "BioC_mirror: https://bioconductor.org\n",
      "Using Bioconductor 3.6 (BiocInstaller 1.28.0), R 3.4.3 (2017-11-30).\n",
      "Installing package(s) ‘Gviz’\n",
      "also installing the dependencies ‘ensembldb’, ‘biovizBase’\n",
      "\n",
      "Updating HTML index of packages in '.Library'\n",
      "Making 'packages.html' ... done\n",
      "Old packages: 'BH', 'bindr', 'bindrcpp', 'bit', 'blob', 'broom', 'callr',\n",
      "  'caret', 'checkpoint', 'cluster', 'curl', 'CVST', 'data.table', 'DBI',\n",
      "  'dbplyr', 'ddalpha', 'digest', 'doBy', 'doParallel', 'dplyr', 'DRR',\n",
      "  'forcats', 'foreach', 'foreign', 'glmnet', 'haven', 'hexbin', 'hms',\n",
      "  'htmlwidgets', 'httpuv', 'IRdisplay', 'iterators', 'jsonlite', 'kernlab',\n",
      "  'knitr', 'lava', 'lubridate', 'maps', 'MASS', 'Matrix', 'mgcv', 'modelr',\n",
      "  'nlme', 'openssl', 'pbdZMQ', 'pillar', 'plogr', 'png', 'prodlim', 'psych',\n",
      "  'purrr', 'quantmod', 'R6', 'randomForest', 'Rcpp', 'RcppRoll', 'readxl',\n",
      "  'recipes', 'repr', 'reprex', 'rlang', 'rmarkdown', 'RMySQL', 'robustbase',\n",
      "  'rpart', 'rprojroot', 'RSQLite', 'RUnit', 'selectr', 'sfsmisc', 'shiny',\n",
      "  'sourcetools', 'stringi', 'stringr', 'survival', 'tibble', 'tidyr',\n",
      "  'tidyselect', 'timeDate', 'TTR', 'utf8', 'withr', 'xml2', 'xts', 'yaml',\n",
      "  'zoo'\n"
     ]
    }
   ],
   "source": [
    "biocLite(\"Gviz\")"
   ]
  },
  {
   "cell_type": "code",
   "execution_count": 37,
   "metadata": {
    "scrolled": true
   },
   "outputs": [
    {
     "name": "stderr",
     "output_type": "stream",
     "text": [
      "Loading required package: stats4\n",
      "Loading required package: BiocGenerics\n",
      "Loading required package: parallel\n",
      "\n",
      "Attaching package: ‘BiocGenerics’\n",
      "\n",
      "The following objects are masked from ‘package:parallel’:\n",
      "\n",
      "    clusterApply, clusterApplyLB, clusterCall, clusterEvalQ,\n",
      "    clusterExport, clusterMap, parApply, parCapply, parLapply,\n",
      "    parLapplyLB, parRapply, parSapply, parSapplyLB\n",
      "\n",
      "The following objects are masked from ‘package:dplyr’:\n",
      "\n",
      "    combine, intersect, setdiff, union\n",
      "\n",
      "The following objects are masked from ‘package:stats’:\n",
      "\n",
      "    IQR, mad, sd, var, xtabs\n",
      "\n",
      "The following objects are masked from ‘package:base’:\n",
      "\n",
      "    anyDuplicated, append, as.data.frame, cbind, colMeans, colnames,\n",
      "    colSums, do.call, duplicated, eval, evalq, Filter, Find, get, grep,\n",
      "    grepl, intersect, is.unsorted, lapply, lengths, Map, mapply, match,\n",
      "    mget, order, paste, pmax, pmax.int, pmin, pmin.int, Position, rank,\n",
      "    rbind, Reduce, rowMeans, rownames, rowSums, sapply, setdiff, sort,\n",
      "    table, tapply, union, unique, unsplit, which, which.max, which.min\n",
      "\n",
      "Loading required package: S4Vectors\n",
      "\n",
      "Attaching package: ‘S4Vectors’\n",
      "\n",
      "The following objects are masked from ‘package:dplyr’:\n",
      "\n",
      "    first, rename\n",
      "\n",
      "The following object is masked from ‘package:base’:\n",
      "\n",
      "    expand.grid\n",
      "\n",
      "Loading required package: IRanges\n",
      "\n",
      "Attaching package: ‘IRanges’\n",
      "\n",
      "The following objects are masked from ‘package:dplyr’:\n",
      "\n",
      "    collapse, desc, slice\n",
      "\n",
      "Loading required package: GenomeInfoDb\n"
     ]
    }
   ],
   "source": [
    "library(GenomicRanges)"
   ]
  },
  {
   "cell_type": "code",
   "execution_count": 44,
   "metadata": {},
   "outputs": [
    {
     "name": "stderr",
     "output_type": "stream",
     "text": [
      "Loading required package: grid\n"
     ]
    }
   ],
   "source": [
    "library(Gviz)"
   ]
  },
  {
   "cell_type": "code",
   "execution_count": 5,
   "metadata": {},
   "outputs": [],
   "source": [
    "setwd(\"/home/kap12/gtf_notebook\")"
   ]
  },
  {
   "cell_type": "markdown",
   "metadata": {},
   "source": [
    "### Create ensemblGenome object for storing Ensembl genomic annotation data\n"
   ]
  },
  {
   "cell_type": "code",
   "execution_count": 7,
   "metadata": {},
   "outputs": [],
   "source": [
    "ens <- ensemblGenome()"
   ]
  },
  {
   "cell_type": "markdown",
   "metadata": {},
   "source": [
    "### read GTF file into ensemblGenome object"
   ]
  },
  {
   "cell_type": "code",
   "execution_count": 8,
   "metadata": {},
   "outputs": [
    {
     "name": "stdout",
     "output_type": "stream",
     "text": [
      "[read.gtf.refGenome] Reading file 'Arabidopsis_thaliana.TAIR10.36.gtf'.\n",
      "\r",
      "[GTF]   100000 lines processed.\r",
      "[GTF]   200000 lines processed.\r",
      "[GTF]   300000 lines processed.\r",
      "[GTF]   400000 lines processed.\r",
      "[GTF]   500000 lines processed.\r",
      "[GTF]   600000 lines processed.\r",
      "[GTF]   700000 lines processed.\r",
      "[GTF]   800000 lines processed.\r",
      "[GTF]   888100 lines processed.\n",
      "[read.gtf.refGenome] Extracting genes table.\n",
      "[read.gtf.refGenome] Found 32,833 gene records.\n",
      "[read.gtf.refGenome] Finished.\n"
     ]
    }
   ],
   "source": [
    "read.gtf(ens, \"Arabidopsis_thaliana.TAIR10.36.gtf\")"
   ]
  },
  {
   "cell_type": "code",
   "execution_count": 11,
   "metadata": {},
   "outputs": [
    {
     "data": {
      "text/html": [
       "'ensemblGenome'"
      ],
      "text/latex": [
       "'ensemblGenome'"
      ],
      "text/markdown": [
       "'ensemblGenome'"
      ],
      "text/plain": [
       "[1] \"ensemblGenome\"\n",
       "attr(,\"package\")\n",
       "[1] \"refGenome\""
      ]
     },
     "metadata": {},
     "output_type": "display_data"
    }
   ],
   "source": [
    "class(ens)"
   ]
  },
  {
   "cell_type": "markdown",
   "metadata": {},
   "source": [
    "### counts all annotations on each seqname"
   ]
  },
  {
   "cell_type": "code",
   "execution_count": 13,
   "metadata": {},
   "outputs": [
    {
     "data": {
      "text/plain": [
       "\n",
       "     1      2      3      4      5     Mt     Pt \n",
       "229818 132448 165053 131565 195121    690    567 "
      ]
     },
     "metadata": {},
     "output_type": "display_data"
    }
   ],
   "source": [
    "tableSeqids(ens)"
   ]
  },
  {
   "cell_type": "markdown",
   "metadata": {},
   "source": [
    "### returns all annotations on mitochondria"
   ]
  },
  {
   "cell_type": "code",
   "execution_count": 14,
   "metadata": {},
   "outputs": [
    {
     "data": {
      "text/plain": [
       "Object of class 'ensemblGenome' with 690 rows and 27 columns.\n",
       "           id seqid    source     feature start   end score strand frame   2\"\n",
       "886555 886555    Mt araport11  transcript   273   734     .      -     . <NA>\n",
       "886556 886556    Mt araport11        exon   273   734     .      -     . <NA>\n",
       "886557 886557    Mt araport11         CDS   276   734     .      -     0 <NA>\n",
       "886558 886558    Mt araport11 start_codon   732   734     .      -     0 <NA>\n",
       "886559 886559    Mt araport11  stop_codon   273   275     .      -     0 <NA>\n",
       "886561 886561    Mt araport11  transcript  8848 11415     .      -     . <NA>\n",
       "         4\" gene_name   gene_id transcript_id   8\"   gene_biotype gene_source\n",
       "886555 <NA>   ORF153A ATMG00010   ATMG00010.1 <NA> protein_coding   araport11\n",
       "886556 <NA>   ORF153A ATMG00010   ATMG00010.1 <NA> protein_coding   araport11\n",
       "886557 <NA>   ORF153A ATMG00010   ATMG00010.1 <NA> protein_coding   araport11\n",
       "886558 <NA>   ORF153A ATMG00010   ATMG00010.1 <NA> protein_coding   araport11\n",
       "886559 <NA>   ORF153A ATMG00010   ATMG00010.1 <NA> protein_coding   araport11\n",
       "886561 <NA>     RRN26 ATMG00020   ATMG00020.1 <NA>           rRNA   araport11\n",
       "       transcript_biotype   5\" exon_number           exon_id  protein_id\n",
       "886555     protein_coding <NA>        <NA>              <NA>        <NA>\n",
       "886556     protein_coding <NA>           1 ATMG00010.1.exon1        <NA>\n",
       "886557     protein_coding <NA>           1              <NA> ATMG00010.1\n",
       "886558     protein_coding <NA>           1              <NA>        <NA>\n",
       "886559     protein_coding <NA>           1              <NA>        <NA>\n",
       "886561               rRNA <NA>        <NA>              <NA>        <NA>\n",
       "       protein_version transcript_source  H3\"   1\"   3\"\n",
       "886555            <NA>         araport11 <NA> <NA> <NA>\n",
       "886556            <NA>         araport11 <NA> <NA> <NA>\n",
       "886557               1         araport11 <NA> <NA> <NA>\n",
       "886558            <NA>         araport11 <NA> <NA> <NA>\n",
       "886559            <NA>         araport11 <NA> <NA> <NA>\n",
       "886561            <NA>         araport11 <NA> <NA> <NA>"
      ]
     },
     "metadata": {},
     "output_type": "display_data"
    }
   ],
   "source": [
    "extractSeqids(ens, 'Mt')"
   ]
  },
  {
   "cell_type": "markdown",
   "metadata": {},
   "source": [
    "### summarise features in GTF file"
   ]
  },
  {
   "cell_type": "code",
   "execution_count": 15,
   "metadata": {},
   "outputs": [
    {
     "data": {
      "text/plain": [
       "\n",
       "            CDS            exon  five_prime_utr     start_codon      stop_codon \n",
       "         285977          313952           56384           48315           48313 \n",
       "three_prime_utr      transcript \n",
       "          48308           54013 "
      ]
     },
     "metadata": {},
     "output_type": "display_data"
    }
   ],
   "source": [
    "tableFeatures(ens)"
   ]
  },
  {
   "cell_type": "markdown",
   "metadata": {},
   "source": [
    "### create table of genes"
   ]
  },
  {
   "cell_type": "code",
   "execution_count": 16,
   "metadata": {},
   "outputs": [
    {
     "data": {
      "text/html": [
       "<ol class=list-inline>\n",
       "\t<li>32833</li>\n",
       "\t<li>26</li>\n",
       "</ol>\n"
      ],
      "text/latex": [
       "\\begin{enumerate*}\n",
       "\\item 32833\n",
       "\\item 26\n",
       "\\end{enumerate*}\n"
      ],
      "text/markdown": [
       "1. 32833\n",
       "2. 26\n",
       "\n",
       "\n"
      ],
      "text/plain": [
       "[1] 32833    26"
      ]
     },
     "metadata": {},
     "output_type": "display_data"
    }
   ],
   "source": [
    "my_gene <- getGenePositions(ens)\n",
    "dim(my_gene)"
   ]
  },
  {
   "cell_type": "markdown",
   "metadata": {},
   "source": [
    "### gene IDs are unique"
   ]
  },
  {
   "cell_type": "code",
   "execution_count": 17,
   "metadata": {},
   "outputs": [
    {
     "data": {
      "text/html": [
       "32833"
      ],
      "text/latex": [
       "32833"
      ],
      "text/markdown": [
       "32833"
      ],
      "text/plain": [
       "[1] 32833"
      ]
     },
     "metadata": {},
     "output_type": "display_data"
    },
    {
     "data": {
      "text/html": [
       "32833"
      ],
      "text/latex": [
       "32833"
      ],
      "text/markdown": [
       "32833"
      ],
      "text/plain": [
       "[1] 32833"
      ]
     },
     "metadata": {},
     "output_type": "display_data"
    }
   ],
   "source": [
    "length(my_gene$gene_id)\n",
    "length(unique(my_gene$gene_id))"
   ]
  },
  {
   "cell_type": "markdown",
   "metadata": {},
   "source": [
    "### Using dplyr number of genes on each seqname"
   ]
  },
  {
   "cell_type": "code",
   "execution_count": 21,
   "metadata": {},
   "outputs": [
    {
     "data": {
      "text/html": [
       "<table>\n",
       "<thead><tr><th scope=col>seqid</th><th scope=col>n()</th></tr></thead>\n",
       "<tbody>\n",
       "\t<tr><td>1   </td><td>8656</td></tr>\n",
       "\t<tr><td>2   </td><td>5174</td></tr>\n",
       "\t<tr><td>3   </td><td>6435</td></tr>\n",
       "\t<tr><td>4   </td><td>4921</td></tr>\n",
       "\t<tr><td>5   </td><td>7362</td></tr>\n",
       "\t<tr><td>Mt  </td><td> 152</td></tr>\n",
       "\t<tr><td>Pt  </td><td> 133</td></tr>\n",
       "</tbody>\n",
       "</table>\n"
      ],
      "text/latex": [
       "\\begin{tabular}{r|ll}\n",
       " seqid & n()\\\\\n",
       "\\hline\n",
       "\t 1    & 8656\\\\\n",
       "\t 2    & 5174\\\\\n",
       "\t 3    & 6435\\\\\n",
       "\t 4    & 4921\\\\\n",
       "\t 5    & 7362\\\\\n",
       "\t Mt   &  152\\\\\n",
       "\t Pt   &  133\\\\\n",
       "\\end{tabular}\n"
      ],
      "text/markdown": [
       "\n",
       "seqid | n() | \n",
       "|---|---|---|---|---|---|---|\n",
       "| 1    | 8656 | \n",
       "| 2    | 5174 | \n",
       "| 3    | 6435 | \n",
       "| 4    | 4921 | \n",
       "| 5    | 7362 | \n",
       "| Mt   |  152 | \n",
       "| Pt   |  133 | \n",
       "\n",
       "\n"
      ],
      "text/plain": [
       "  seqid n() \n",
       "1 1     8656\n",
       "2 2     5174\n",
       "3 3     6435\n",
       "4 4     4921\n",
       "5 5     7362\n",
       "6 Mt     152\n",
       "7 Pt     133"
      ]
     },
     "metadata": {},
     "output_type": "display_data"
    }
   ],
   "source": [
    "my_gene %>% group_by(seqid) %>% summarise(n())"
   ]
  },
  {
   "cell_type": "code",
   "execution_count": 22,
   "metadata": {},
   "outputs": [
    {
     "data": {
      "text/html": [
       "<table>\n",
       "<thead><tr><th scope=col>gene_id</th></tr></thead>\n",
       "<tbody>\n",
       "\t<tr><td>ATMG00010</td></tr>\n",
       "\t<tr><td>ATMG00020</td></tr>\n",
       "\t<tr><td>ATMG00030</td></tr>\n",
       "\t<tr><td>ATMG00040</td></tr>\n",
       "\t<tr><td>ATMG00050</td></tr>\n",
       "\t<tr><td>ATMG00060</td></tr>\n",
       "</tbody>\n",
       "</table>\n"
      ],
      "text/latex": [
       "\\begin{tabular}{r|l}\n",
       " gene\\_id\\\\\n",
       "\\hline\n",
       "\t ATMG00010\\\\\n",
       "\t ATMG00020\\\\\n",
       "\t ATMG00030\\\\\n",
       "\t ATMG00040\\\\\n",
       "\t ATMG00050\\\\\n",
       "\t ATMG00060\\\\\n",
       "\\end{tabular}\n"
      ],
      "text/markdown": [
       "\n",
       "gene_id | \n",
       "|---|---|---|---|---|---|\n",
       "| ATMG00010 | \n",
       "| ATMG00020 | \n",
       "| ATMG00030 | \n",
       "| ATMG00040 | \n",
       "| ATMG00050 | \n",
       "| ATMG00060 | \n",
       "\n",
       "\n"
      ],
      "text/plain": [
       "  gene_id  \n",
       "1 ATMG00010\n",
       "2 ATMG00020\n",
       "3 ATMG00030\n",
       "4 ATMG00040\n",
       "5 ATMG00050\n",
       "6 ATMG00060"
      ]
     },
     "metadata": {},
     "output_type": "display_data"
    }
   ],
   "source": [
    "my_gene %>% filter(seqid == \"Mt\") %>% select(gene_id) %>% head()"
   ]
  },
  {
   "cell_type": "code",
   "execution_count": 23,
   "metadata": {},
   "outputs": [
    {
     "data": {
      "text/html": [
       "<table>\n",
       "<thead><tr><th scope=col>gene_id</th></tr></thead>\n",
       "<tbody>\n",
       "\t<tr><td>AT2G01008</td></tr>\n",
       "\t<tr><td>AT2G03855</td></tr>\n",
       "\t<tr><td>AT2G01010</td></tr>\n",
       "\t<tr><td>AT2G01020</td></tr>\n",
       "\t<tr><td>AT2G01021</td></tr>\n",
       "\t<tr><td>AT2G01023</td></tr>\n",
       "</tbody>\n",
       "</table>\n"
      ],
      "text/latex": [
       "\\begin{tabular}{r|l}\n",
       " gene\\_id\\\\\n",
       "\\hline\n",
       "\t AT2G01008\\\\\n",
       "\t AT2G03855\\\\\n",
       "\t AT2G01010\\\\\n",
       "\t AT2G01020\\\\\n",
       "\t AT2G01021\\\\\n",
       "\t AT2G01023\\\\\n",
       "\\end{tabular}\n"
      ],
      "text/markdown": [
       "\n",
       "gene_id | \n",
       "|---|---|---|---|---|---|\n",
       "| AT2G01008 | \n",
       "| AT2G03855 | \n",
       "| AT2G01010 | \n",
       "| AT2G01020 | \n",
       "| AT2G01021 | \n",
       "| AT2G01023 | \n",
       "\n",
       "\n"
      ],
      "text/plain": [
       "  gene_id  \n",
       "1 AT2G01008\n",
       "2 AT2G03855\n",
       "3 AT2G01010\n",
       "4 AT2G01020\n",
       "5 AT2G01021\n",
       "6 AT2G01023"
      ]
     },
     "metadata": {},
     "output_type": "display_data"
    }
   ],
   "source": [
    "my_gene %>% filter(seqid == 2) %>% select(gene_id) %>% head()"
   ]
  },
  {
   "cell_type": "markdown",
   "metadata": {},
   "source": [
    "### distribution of gene lengths"
   ]
  },
  {
   "cell_type": "code",
   "execution_count": 25,
   "metadata": {},
   "outputs": [
    {
     "data": {
      "image/png": "[encoded data removed]",
      "text/plain": [
       "Plot with title “Distribution of gene lengths”"
      ]
     },
     "metadata": {},
     "output_type": "display_data"
    }
   ],
   "source": [
    "my_gene_length <- my_gene$end - my_gene$start\n",
    "my_density <- density(my_gene_length)\n",
    "plot(my_density, main = 'Distribution of gene lengths')"
   ]
  },
  {
   "cell_type": "markdown",
   "metadata": {},
   "source": [
    "### find peaks in a sequence of numbers"
   ]
  },
  {
   "cell_type": "code",
   "execution_count": 28,
   "metadata": {},
   "outputs": [
    {
     "data": {
      "text/html": [
       "<ol class=list-inline>\n",
       "\t<li>15</li>\n",
       "\t<li>43</li>\n",
       "\t<li>213</li>\n",
       "\t<li>236</li>\n",
       "\t<li>252</li>\n",
       "\t<li>262</li>\n",
       "\t<li>279</li>\n",
       "\t<li>300</li>\n",
       "\t<li>312</li>\n",
       "\t<li>331</li>\n",
       "\t<li>340</li>\n",
       "\t<li>366</li>\n",
       "\t<li>374</li>\n",
       "\t<li>436</li>\n",
       "\t<li>487</li>\n",
       "\t<li>503</li>\n",
       "</ol>\n"
      ],
      "text/latex": [
       "\\begin{enumerate*}\n",
       "\\item 15\n",
       "\\item 43\n",
       "\\item 213\n",
       "\\item 236\n",
       "\\item 252\n",
       "\\item 262\n",
       "\\item 279\n",
       "\\item 300\n",
       "\\item 312\n",
       "\\item 331\n",
       "\\item 340\n",
       "\\item 366\n",
       "\\item 374\n",
       "\\item 436\n",
       "\\item 487\n",
       "\\item 503\n",
       "\\end{enumerate*}\n"
      ],
      "text/markdown": [
       "1. 15\n",
       "2. 43\n",
       "3. 213\n",
       "4. 236\n",
       "5. 252\n",
       "6. 262\n",
       "7. 279\n",
       "8. 300\n",
       "9. 312\n",
       "10. 331\n",
       "11. 340\n",
       "12. 366\n",
       "13. 374\n",
       "14. 436\n",
       "15. 487\n",
       "16. 503\n",
       "\n",
       "\n"
      ],
      "text/plain": [
       " [1]  15  43 213 236 252 262 279 300 312 331 340 366 374 436 487 503"
      ]
     },
     "metadata": {},
     "output_type": "display_data"
    },
    {
     "data": {
      "text/html": [
       "<ol class=list-inline>\n",
       "\t<li>285.337618312279</li>\n",
       "\t<li>1832.89267705868</li>\n",
       "</ol>\n"
      ],
      "text/latex": [
       "\\begin{enumerate*}\n",
       "\\item 285.337618312279\n",
       "\\item 1832.89267705868\n",
       "\\end{enumerate*}\n"
      ],
      "text/markdown": [
       "1. 285.337618312279\n",
       "2. 1832.89267705868\n",
       "\n",
       "\n"
      ],
      "text/plain": [
       "[1]  285.3376 1832.8927"
      ]
     },
     "metadata": {},
     "output_type": "display_data"
    },
    {
     "data": {
      "image/png": "[encoded data removed]",
      "text/plain": [
       "Plot with title “Distribution of gene lengths”"
      ]
     },
     "metadata": {},
     "output_type": "display_data"
    }
   ],
   "source": [
    "find_peak <- function (x){\n",
    "  which(diff(sign(diff(x))) < 0) + 1\n",
    "}\n",
    "\n",
    "find_peak(my_density$y)\n",
    " \n",
    "my_density$x[find_peak(my_density$y)[1:2]]\n",
    " \n",
    "plot(my_density, main = 'Distribution of gene lengths')\n",
    "abline(v = c(my_density$x[find_peak(my_density$y)[1]],\n",
    "             my_density$x[find_peak(my_density$y)[2]]),\n",
    "       col = 'red', lty = 2)\n",
    " \n",
    "text(x = my_density$x[find_peak(my_density$y)[1]] + 1500,\n",
    "     y = my_density$y[find_peak(my_density$y)[1]],\n",
    "     labels = round(my_density$x[find_peak(my_density$y)[1]], 2))\n",
    " \n",
    "text(x = my_density$x[find_peak(my_density$y)[2]] + 1500,\n",
    "     y = my_density$y[find_peak(my_density$y)[2]],\n",
    "     labels = round(my_density$x[find_peak(my_density$y)[2]], 2))"
   ]
  },
  {
   "cell_type": "markdown",
   "metadata": {},
   "source": [
    "### Summarise the biotypes and create a plot"
   ]
  },
  {
   "cell_type": "code",
   "execution_count": 29,
   "metadata": {},
   "outputs": [
    {
     "data": {
      "text/plain": [
       "\n",
       "          atlncRNA              atRNA             lncRNA              miRNA \n",
       "              1037                 78               2444                325 \n",
       "nontranslating_CDS           otherRNA     protein_coding               rRNA \n",
       "                27                221              27628                 15 \n",
       "            snoRNA              snRNA               tRNA \n",
       "               287                 82                689 "
      ]
     },
     "metadata": {},
     "output_type": "display_data"
    }
   ],
   "source": [
    "table(my_gene$gene_biotype)"
   ]
  },
  {
   "cell_type": "code",
   "execution_count": 33,
   "metadata": {},
   "outputs": [
    {
     "data": {},
     "metadata": {},
     "output_type": "display_data"
    },
    {
     "data": {
      "image/png": "[encoded data removed]",
      "text/plain": [
       "plot without title"
      ]
     },
     "metadata": {},
     "output_type": "display_data"
    }
   ],
   "source": [
    "my_gene %>% group_by(seqid, gene_biotype) %>% summarise(count = n()) -> my_tally\n",
    " \n",
    "ggplot(my_tally, aes(x = seqid, y = log2(count))) +\n",
    "  geom_bar(aes(fill = gene_biotype), stat = 'identity', position = 'dodge')"
   ]
  },
  {
   "cell_type": "markdown",
   "metadata": {},
   "source": [
    "### create a GRanges using the genes data frame"
   ]
  },
  {
   "cell_type": "code",
   "execution_count": 45,
   "metadata": {},
   "outputs": [],
   "source": [
    "my_gr <- with(my_gene, GRanges(seqid, IRanges(start, end), strand, id = gene_id))"
   ]
  },
  {
   "cell_type": "code",
   "execution_count": 46,
   "metadata": {},
   "outputs": [
    {
     "data": {
      "image/png": "[encoded data removed]",
      "text/plain": [
       "plot without title"
      ]
     },
     "metadata": {},
     "output_type": "display_data"
    }
   ],
   "source": [
    "ref <- GRanges()\n",
    "ref_track <- GenomeAxisTrack()\n",
    "options(ucscChromosomeNames=FALSE)\n",
    "data_track <- AnnotationTrack(my_gr, name = \"Genes\", showFeatureId = TRUE)\n",
    "plotTracks(c(ref_track, data_track),\n",
    "           from = 1, to = 10000)"
   ]
  }
 ],
 "metadata": {
  "kernelspec": {
   "display_name": "R",
   "language": "R",
   "name": "ir"
  },
  "language_info": {
   "codemirror_mode": "r",
   "file_extension": ".r",
   "mimetype": "text/x-r-source",
   "name": "R",
   "pygments_lexer": "r",
   "version": "3.4.3"
  }
 },
 "nbformat": 4,
 "nbformat_minor": 2
}
